{
 "cells": [
  {
   "cell_type": "code",
   "execution_count": 133,
   "metadata": {},
   "outputs": [],
   "source": [
    "import petl as etl\n",
    "table = etl.fromcsv('leben_base.csv')\n",
    "# etl.fieldnames(table)"
   ]
  },
  {
   "cell_type": "code",
   "execution_count": 134,
   "metadata": {},
   "outputs": [],
   "source": [
    "ignored_fileds = ['¿Por qué?', '¿Qué te gustaría que te ofreciera Wolox que hoy no te ofrece?', '¿Qué es lo que más te gusta de trabajar en Wolox?', '¿Qué es lo que menos te gusta de trabajar en Wolox?', '¿Cómo ves a Wolox de acá a 5 años?', 'Describí a Wolox en máximo 3 palabras', 'Email Address']\n",
    "\n",
    "\n",
    "fieldlabels ={\n",
    " 'Timestamp': 'TIMESTAMP',\n",
    " '¿En qué país trabajaste la mayor parte del 2018?': 'PAIS',\n",
    " '¿En qué oficina trabajás actualmente o trabajaste mayoritariamente cuando estuviste en Argentina ?': 'SEDE',\n",
    " '¿Trabajaste antes en las oficinas de Wolox Argentina?': 'RELOC',\n",
    " '¿Considerás tu relocación como una experiencia positiva?': 'EXP_RELOC',\n",
    " 'Trabajo en el área:': 'AREA',\n",
    " 'Llevo trabajando en Wolox:': 'ANTIGUEDAD',\n",
    " 'Creo que mi día a día en Wolox...': 'SATISFACCION',\n",
    " 'Considero que las personas con las que trabajo son:': 'PARES',\n",
    " 'Elijo trabajar en Wolox porque:': 'ELIJO',\n",
    " 'Creo que Wolox la rompe en:': 'BIEN',\n",
    " 'Creo que Wolox debería mejorar en:': 'MAL',\n",
    " 'Trabajar en Wolox:': 'ME_GUSTA',\n",
    " '¿Le recomendarías a alguien trabajar en Wolox?': 'RECOMIENDA' }"
   ]
  },
  {
   "cell_type": "code",
   "execution_count": 135,
   "metadata": {},
   "outputs": [],
   "source": [
    "table = etl.cutout(table, *ignored_fileds)\n",
    "\n",
    "# TODO: Remover la doble columna\n",
    "table = etl.cutout(table, '¿Por qué?')"
   ]
  },
  {
   "cell_type": "code",
   "execution_count": 136,
   "metadata": {},
   "outputs": [],
   "source": [
    "# etl.fieldnames(table)"
   ]
  },
  {
   "cell_type": "code",
   "execution_count": 137,
   "metadata": {},
   "outputs": [],
   "source": [
    "table = etl.rename(table, fieldlabels)\n",
    "# etl.fieldnames(table)"
   ]
  },
  {
   "cell_type": "code",
   "execution_count": 138,
   "metadata": {},
   "outputs": [],
   "source": [
    "numeric_values = {\n",
    "    'PAIS': {\n",
    "        'Argentina': 0,\n",
    "        'Chile': 1,\n",
    "        'Colombia': 2,\n",
    "        'México': 3,\n",
    "        'Estados Unidos': 4,\n",
    "        '': 0\n",
    "    },\n",
    "    'SEDE': {\n",
    "        'Güemes': 0,\n",
    "        'Azurduy': 0.5\n",
    "    },\n",
    "    'RELOC': {\n",
    "        'No, siempre estuve en el mismo país': 0,\n",
    "        'Sí, trabajé en Argentina antes': 1,\n",
    "        '': 0\n",
    "    },\n",
    "    'EXP_RELOC': {\n",
    "        'Sí': 10,\n",
    "        'Más o menos': 5,\n",
    "        'No': 0,\n",
    "        '': 0\n",
    "    },\n",
    "    'AREA': {\n",
    "        'Desarrollo': 0,\n",
    "        'Management': 1,\n",
    "        'QA': 2, \n",
    "        'People Care': 3,\n",
    "        'X Lab': 4,\n",
    "        'Comercial': 5,\n",
    "        'Legales': 6,\n",
    "        'Calidad': 7,\n",
    "        'Administración y Finanzas': 8,\n",
    "        'Marketing': 9,\n",
    "        '': 0\n",
    "    },\n",
    "    'ANTIGUEDAD': {\n",
    "        'Menos de 6 meses': 0.25,\n",
    "        'De 6 meses a 1 año': 0.75,\n",
    "        'Entre 1 y 2 años': 1.5,\n",
    "        'Entre 2 y 3 años': 2.5,\n",
    "        'Entre 3 y 4 años': 3.5,\n",
    "        'Entre 4 y 5 años': 4.5,\n",
    "        'Más de 5 años': 6,\n",
    "        '': 1\n",
    "    },\n",
    "    'SATISFACCION': {\n",
    "        '': 7\n",
    "    },\n",
    "    'PARES': {\n",
    "        'Personas con las que me gusta compartir el día a día, pero sólo en el ámbito laboral': 10,\n",
    "        'Personas con las que comparto intereses y motivaciones dentro y fuera del trabajo': 6,\n",
    "        'Personas con las que no tengo mucho en común': 3,\n",
    "        'Personas con las que no siento comodidad': 0,\n",
    "        '': 5\n",
    "    },\n",
    "    'ME_GUSTA': {\n",
    "        'Me gusta': 10,\n",
    "        'Me es indiferente': 5,\n",
    "        'No me gusta': 0,\n",
    "        '': 5\n",
    "    },\n",
    "    'RECOMIENDA': {\n",
    "        'Sí, seguro': 10,\n",
    "        'Tal vez': 5,\n",
    "        'No, de ninguna manera': 0,\n",
    "        '': 5\n",
    "        \n",
    "    }     \n",
    "}"
   ]
  },
  {
   "cell_type": "code",
   "execution_count": 139,
   "metadata": {},
   "outputs": [],
   "source": [
    "table = etl.convert(table, numeric_values)\n"
   ]
  },
  {
   "cell_type": "code",
   "execution_count": 140,
   "metadata": {},
   "outputs": [],
   "source": [
    "# NULL VALUES THAT DEPEND ON OTHER VALUES\n",
    "table = etl.convert(table, 'SEDE', lambda v, row: row.PAIS, pass_row=True)\n",
    "#etl.tocsv(table, 'example.csv')"
   ]
  },
  {
   "cell_type": "code",
   "execution_count": 141,
   "metadata": {},
   "outputs": [],
   "source": [
    "\n",
    "etl.tocsv(table, 'example.csv')"
   ]
  },
  {
   "cell_type": "code",
   "execution_count": null,
   "metadata": {},
   "outputs": [],
   "source": []
  },
  {
   "cell_type": "code",
   "execution_count": null,
   "metadata": {},
   "outputs": [],
   "source": []
  }
 ],
 "metadata": {
  "kernelspec": {
   "display_name": "Python 3",
   "language": "python",
   "name": "python3"
  },
  "language_info": {
   "codemirror_mode": {
    "name": "ipython",
    "version": 3
   },
   "file_extension": ".py",
   "mimetype": "text/x-python",
   "name": "python",
   "nbconvert_exporter": "python",
   "pygments_lexer": "ipython3",
   "version": "3.6.5"
  }
 },
 "nbformat": 4,
 "nbformat_minor": 2
}
