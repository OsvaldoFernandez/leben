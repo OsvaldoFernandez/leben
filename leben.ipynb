{
 "cells": [
  {
   "cell_type": "code",
   "execution_count": null,
   "metadata": {},
   "outputs": [],
   "source": [
    "import pandas as pd\n",
    "df = pd.read_csv('numinput.csv', sep=',')"
   ]
  },
  {
   "cell_type": "code",
   "execution_count": null,
   "metadata": {},
   "outputs": [],
   "source": [
    "import numpy as np\n",
    "from sklearn.cluster import MeanShift, estimate_bandwidth\n",
    "\n",
    "# Get train and test data\n",
    "train, test = np.split(df, [int(1*len(df))])\n",
    "# TODO: Generate a train and test for clustering validation\n",
    "\n",
    "\n",
    "# #############################################################################\n",
    "# Compute clustering with MeanShift\n",
    "\n",
    "# The following bandwidth can be automatically detected using\n",
    "bandwidth = estimate_bandwidth(train, quantile=0.2, n_samples=200)\n",
    "\n",
    "ms = MeanShift(bandwidth=bandwidth, bin_seeding=True)\n",
    "ms.fit(train)\n",
    "labels = ms.labels_\n",
    "cluster_centers = ms.cluster_centers_\n",
    "\n",
    "labels_unique = np.unique(labels)\n",
    "n_clusters_ = len(labels_unique)\n",
    "\n",
    "print(\"number of estimated clusters : %d\" % n_clusters_)\n"
   ]
  },
  {
   "cell_type": "code",
   "execution_count": null,
   "metadata": {},
   "outputs": [],
   "source": [
    "# Verifying clusters with Silhouette\n",
    "\n",
    "from sklearn.metrics import silhouette_score\n",
    "silhouette_avg = silhouette_score(train, labels)\n",
    "print(\"For n_clusters =\", bandwidth, \"The average silhouette_score is :\", silhouette_avg)"
   ]
  },
  {
   "cell_type": "code",
   "execution_count": null,
   "metadata": {},
   "outputs": [],
   "source": [
    "# Adding Cluster ID to values in dataframe\n",
    "\n",
    "df['group'] = labels.tolist()"
   ]
  },
  {
   "cell_type": "code",
   "execution_count": null,
   "metadata": {},
   "outputs": [],
   "source": [
    "# Desision Tree from responses in clusters\n",
    "\n",
    "from sklearn import tree\n",
    "import pydot\n",
    "clf = tree.DecisionTreeClassifier(random_state=0, max_depth=3)\n",
    "\n",
    "\n",
    "data = df.drop('group', axis=1)\n",
    "target = df['group'].values.tolist()\n",
    "clf = clf.fit(data, target)\n",
    "# TODO: TEST\n",
    "\n",
    "tree.export_graphviz(clf, out_file='graphs/group.dot')\n",
    "(graph,) = pydot.graph_from_dot_file('graphs/group.dot')\n",
    "graph.write_png('graphs/group.png')\n",
    "\n"
   ]
  },
  {
   "cell_type": "code",
   "execution_count": null,
   "metadata": {},
   "outputs": [],
   "source": [
    "# Adding labels to tree\n",
    "\n",
    "import re\n",
    "for node in graph.get_node_list():\n",
    "    label = node.get_label()\n",
    "\n",
    "    key_regexp = 'X\\[[0-9]+\\]'\n",
    "    index_regexp = '[0-9]+'\n",
    "    \n",
    "    if label!= None:\n",
    "        resp = re.search(key_regexp, label)\n",
    "        if resp!= None:\n",
    "            key = resp.group()\n",
    "            index = re.search(index_regexp, key)\n",
    "            node.set_label(re.sub(key_regexp, df.columns[int(index.group())], label))\n",
    "\n",
    "graph.write_png('graphs/group.png')"
   ]
  },
  {
   "cell_type": "code",
   "execution_count": null,
   "metadata": {},
   "outputs": [],
   "source": [
    "# Scatter plot SATISF VS Other attributes -With the color as cluster-\n",
    "\n",
    "for column in df.columns:\n",
    "    img = df.plot.scatter(x='SATISF', y=column, c='group', colormap='jet', sharex=False)\n",
    "    img.get_figure().savefig(\"graphs/SATISF_\"+column+\"_CLUSTERS.png\")"
   ]
  },
  {
   "cell_type": "code",
   "execution_count": null,
   "metadata": {},
   "outputs": [],
   "source": [
    "# Obtaining correlations\n",
    "\n",
    "data = []\n",
    "corr = df.corr()\n",
    "\n",
    "# Sorting attributes correlations\n",
    "\n",
    "for column in corr.columns:\n",
    "    for i in range(df.columns.get_loc(column) + 1, df.columns.values.size -1):\n",
    "        data.append([corr[column][i], column, corr.columns[i]])\n",
    "        \n",
    "formatted_corr = pd.DataFrame(data, columns= ['Score', 'Attr1', 'Attr2'])\n",
    "formatted_corr.sort_values(by=['Score'], ascending=False).to_csv('correlations.csv')\n",
    "\n"
   ]
  },
  {
   "cell_type": "code",
   "execution_count": null,
   "metadata": {},
   "outputs": [],
   "source": [
    "# Correlation graph\n",
    "\n",
    "import seaborn as sns\n",
    "mask = np.zeros_like(corr)\n",
    "mask[np.triu_indices_from(mask)] = True\n",
    "sns.heatmap(corr, square=False, mask=mask)\n",
    "plt.savefig('graphs/corr.png')"
   ]
  },
  {
   "cell_type": "code",
   "execution_count": null,
   "metadata": {},
   "outputs": [],
   "source": []
  }
 ],
 "metadata": {
  "kernelspec": {
   "display_name": "Python 3",
   "language": "python",
   "name": "python3"
  },
  "language_info": {
   "codemirror_mode": {
    "name": "ipython",
    "version": 3
   },
   "file_extension": ".py",
   "mimetype": "text/x-python",
   "name": "python",
   "nbconvert_exporter": "python",
   "pygments_lexer": "ipython3",
   "version": "3.6.5"
  }
 },
 "nbformat": 4,
 "nbformat_minor": 2
}
